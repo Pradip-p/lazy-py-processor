{
 "cells": [
  {
   "cell_type": "code",
   "execution_count": 1,
   "metadata": {},
   "outputs": [],
   "source": [
    "import pandas as pd"
   ]
  },
  {
   "cell_type": "code",
   "execution_count": 2,
   "metadata": {},
   "outputs": [],
   "source": [
    "df = pd.read_csv('scraped_data_2023-01-30 14:11:17.615180.csv')"
   ]
  },
  {
   "cell_type": "code",
   "execution_count": 3,
   "metadata": {},
   "outputs": [
    {
     "data": {
      "text/plain": [
       "363"
      ]
     },
     "execution_count": 3,
     "metadata": {},
     "output_type": "execute_result"
    }
   ],
   "source": [
    "len(df)"
   ]
  },
  {
   "cell_type": "code",
   "execution_count": 4,
   "metadata": {},
   "outputs": [],
   "source": [
    "df1 = pd.read_csv('scraped_data_2023-01-30 13:54:49.351612.csv')"
   ]
  },
  {
   "cell_type": "code",
   "execution_count": 27,
   "metadata": {},
   "outputs": [
    {
     "data": {
      "text/plain": [
       "0      2019-03-26T23:23:49Z\n",
       "1      2021-10-19T05:22:39Z\n",
       "2      2021-10-19T05:21:08Z\n",
       "3      2021-09-06T05:11:48Z\n",
       "4      2021-09-06T04:13:35Z\n",
       "               ...         \n",
       "358    2018-10-27T06:24:03Z\n",
       "359    2018-10-21T23:20:23Z\n",
       "360    2018-10-21T22:07:27Z\n",
       "361    2018-10-21T22:04:31Z\n",
       "362    2018-10-27T06:32:27Z\n",
       "Name: dateCreated, Length: 363, dtype: object"
      ]
     },
     "execution_count": 27,
     "metadata": {},
     "output_type": "execute_result"
    }
   ],
   "source": [
    "df1['dateCreated']"
   ]
  },
  {
   "cell_type": "code",
   "execution_count": 25,
   "metadata": {},
   "outputs": [
    {
     "data": {
      "text/plain": [
       "0            Why can't I see smaller sizes when I order?\n",
       "1                        How big is the box for a puzzle\n",
       "2               What size print do I upload for a puzzle\n",
       "3               What type of box does the puzzle ship in\n",
       "4                                  Soft proofing puzzles\n",
       "                             ...                        \n",
       "358                                What are your prices?\n",
       "359             Do your prices include GST and delivery?\n",
       "360    What are the maximum and minimum sizes for eac...\n",
       "361         What is the minimum resolution for my files?\n",
       "362                         Do you offer metallic paper?\n",
       "Name: title, Length: 363, dtype: object"
      ]
     },
     "execution_count": 25,
     "metadata": {},
     "output_type": "execute_result"
    }
   ],
   "source": [
    "df['title']"
   ]
  },
  {
   "cell_type": "code",
   "execution_count": 28,
   "metadata": {},
   "outputs": [],
   "source": [
    "df = pd.read_csv('scraped_data_2023-01-30 14:21:59.505975.csv')"
   ]
  },
  {
   "cell_type": "code",
   "execution_count": 29,
   "metadata": {},
   "outputs": [
    {
     "data": {
      "text/html": [
       "<div>\n",
       "<style scoped>\n",
       "    .dataframe tbody tr th:only-of-type {\n",
       "        vertical-align: middle;\n",
       "    }\n",
       "\n",
       "    .dataframe tbody tr th {\n",
       "        vertical-align: top;\n",
       "    }\n",
       "\n",
       "    .dataframe thead th {\n",
       "        text-align: right;\n",
       "    }\n",
       "</style>\n",
       "<table border=\"1\" class=\"dataframe\">\n",
       "  <thead>\n",
       "    <tr style=\"text-align: right;\">\n",
       "      <th></th>\n",
       "      <th>dateCreated</th>\n",
       "      <th>categories</th>\n",
       "      <th>title</th>\n",
       "      <th>text</th>\n",
       "      <th>metaDescription</th>\n",
       "    </tr>\n",
       "  </thead>\n",
       "  <tbody>\n",
       "    <tr>\n",
       "      <th>0</th>\n",
       "      <td>2019-03-18 02:04:14</td>\n",
       "      <td>Get started</td>\n",
       "      <td>How can I make payment on my order?</td>\n",
       "      <td>One of the best, absolutely amazing things abo...</td>\n",
       "      <td>One of the best, absolutely amazing things abo...</td>\n",
       "    </tr>\n",
       "    <tr>\n",
       "      <th>1</th>\n",
       "      <td>2021-10-19 05:22:39</td>\n",
       "      <td>Puzzles</td>\n",
       "      <td>How big is the box for a puzzle</td>\n",
       "      <td>Our black puzzle boxes are 34 x 26 x 10cm and ...</td>\n",
       "      <td>Our black puzzle boxes are 34 x 26 x 10cm and ...</td>\n",
       "    </tr>\n",
       "    <tr>\n",
       "      <th>2</th>\n",
       "      <td>2021-10-19 05:21:08</td>\n",
       "      <td>Puzzles</td>\n",
       "      <td>What size print do I upload for a puzzle</td>\n",
       "      <td>You should send us your image sized at 75 x 50...</td>\n",
       "      <td>You should send us your image sized at 75 x 50...</td>\n",
       "    </tr>\n",
       "    <tr>\n",
       "      <th>3</th>\n",
       "      <td>2021-09-06 05:11:48</td>\n",
       "      <td>Puzzles</td>\n",
       "      <td>What type of box does the puzzle ship in</td>\n",
       "      <td>Our puzzles are shipping in a gloss black box ...</td>\n",
       "      <td>Our puzzles are shipping in a gloss black box ...</td>\n",
       "    </tr>\n",
       "    <tr>\n",
       "      <th>4</th>\n",
       "      <td>2021-09-06 04:13:35</td>\n",
       "      <td>Puzzles</td>\n",
       "      <td>Soft proofing puzzles</td>\n",
       "      <td>Our puzzles are printed on Kodak Endura Gloss ...</td>\n",
       "      <td>Our puzzles are printed on Kodak Endura Gloss ...</td>\n",
       "    </tr>\n",
       "    <tr>\n",
       "      <th>...</th>\n",
       "      <td>...</td>\n",
       "      <td>...</td>\n",
       "      <td>...</td>\n",
       "      <td>...</td>\n",
       "      <td>...</td>\n",
       "    </tr>\n",
       "    <tr>\n",
       "      <th>358</th>\n",
       "      <td>2018-10-27 06:24:03</td>\n",
       "      <td>Get started</td>\n",
       "      <td>What are your prices?</td>\n",
       "      <td>Most of our clients are professional photograp...</td>\n",
       "      <td>Most of our clients are professional photograp...</td>\n",
       "    </tr>\n",
       "    <tr>\n",
       "      <th>359</th>\n",
       "      <td>2018-10-21 23:20:23</td>\n",
       "      <td>Get started</td>\n",
       "      <td>Do your prices include GST and delivery?</td>\n",
       "      <td>For ease of comparison, all our prices (both i...</td>\n",
       "      <td>For ease of comparison, all our prices (both i...</td>\n",
       "    </tr>\n",
       "    <tr>\n",
       "      <th>360</th>\n",
       "      <td>2018-10-21 22:07:27</td>\n",
       "      <td>Get started</td>\n",
       "      <td>What are the maximum and minimum sizes for eac...</td>\n",
       "      <td>All products (except Lumi Tiles) are custom-si...</td>\n",
       "      <td>All products (except Lumi Tiles) are custom-si...</td>\n",
       "    </tr>\n",
       "    <tr>\n",
       "      <th>361</th>\n",
       "      <td>2018-10-21 22:04:31</td>\n",
       "      <td>Get started</td>\n",
       "      <td>What is the minimum resolution for my files?</td>\n",
       "      <td>Generally, all images sent to us for print sho...</td>\n",
       "      <td>Generally, all images sent to us for print sho...</td>\n",
       "    </tr>\n",
       "    <tr>\n",
       "      <th>362</th>\n",
       "      <td>2018-10-27 06:32:27</td>\n",
       "      <td>Get started</td>\n",
       "      <td>Do you offer metallic paper?</td>\n",
       "      <td>Metallic papers can deepen the saturation in a...</td>\n",
       "      <td>Metallic papers can deepen the saturation in a...</td>\n",
       "    </tr>\n",
       "  </tbody>\n",
       "</table>\n",
       "<p>363 rows × 5 columns</p>\n",
       "</div>"
      ],
      "text/plain": [
       "             dateCreated   categories  \\\n",
       "0    2019-03-18 02:04:14  Get started   \n",
       "1    2021-10-19 05:22:39      Puzzles   \n",
       "2    2021-10-19 05:21:08      Puzzles   \n",
       "3    2021-09-06 05:11:48      Puzzles   \n",
       "4    2021-09-06 04:13:35      Puzzles   \n",
       "..                   ...          ...   \n",
       "358  2018-10-27 06:24:03  Get started   \n",
       "359  2018-10-21 23:20:23  Get started   \n",
       "360  2018-10-21 22:07:27  Get started   \n",
       "361  2018-10-21 22:04:31  Get started   \n",
       "362  2018-10-27 06:32:27  Get started   \n",
       "\n",
       "                                                 title  \\\n",
       "0                  How can I make payment on my order?   \n",
       "1                      How big is the box for a puzzle   \n",
       "2             What size print do I upload for a puzzle   \n",
       "3             What type of box does the puzzle ship in   \n",
       "4                                Soft proofing puzzles   \n",
       "..                                                 ...   \n",
       "358                              What are your prices?   \n",
       "359           Do your prices include GST and delivery?   \n",
       "360  What are the maximum and minimum sizes for eac...   \n",
       "361       What is the minimum resolution for my files?   \n",
       "362                       Do you offer metallic paper?   \n",
       "\n",
       "                                                  text  \\\n",
       "0    One of the best, absolutely amazing things abo...   \n",
       "1    Our black puzzle boxes are 34 x 26 x 10cm and ...   \n",
       "2    You should send us your image sized at 75 x 50...   \n",
       "3    Our puzzles are shipping in a gloss black box ...   \n",
       "4    Our puzzles are printed on Kodak Endura Gloss ...   \n",
       "..                                                 ...   \n",
       "358  Most of our clients are professional photograp...   \n",
       "359  For ease of comparison, all our prices (both i...   \n",
       "360  All products (except Lumi Tiles) are custom-si...   \n",
       "361  Generally, all images sent to us for print sho...   \n",
       "362  Metallic papers can deepen the saturation in a...   \n",
       "\n",
       "                                       metaDescription  \n",
       "0    One of the best, absolutely amazing things abo...  \n",
       "1    Our black puzzle boxes are 34 x 26 x 10cm and ...  \n",
       "2    You should send us your image sized at 75 x 50...  \n",
       "3    Our puzzles are shipping in a gloss black box ...  \n",
       "4    Our puzzles are printed on Kodak Endura Gloss ...  \n",
       "..                                                 ...  \n",
       "358  Most of our clients are professional photograp...  \n",
       "359  For ease of comparison, all our prices (both i...  \n",
       "360  All products (except Lumi Tiles) are custom-si...  \n",
       "361  Generally, all images sent to us for print sho...  \n",
       "362  Metallic papers can deepen the saturation in a...  \n",
       "\n",
       "[363 rows x 5 columns]"
      ]
     },
     "execution_count": 29,
     "metadata": {},
     "output_type": "execute_result"
    }
   ],
   "source": [
    "df"
   ]
  },
  {
   "cell_type": "code",
   "execution_count": null,
   "metadata": {},
   "outputs": [],
   "source": []
  }
 ],
 "metadata": {
  "kernelspec": {
   "display_name": "Python 3",
   "language": "python",
   "name": "python3"
  },
  "language_info": {
   "codemirror_mode": {
    "name": "ipython",
    "version": 3
   },
   "file_extension": ".py",
   "mimetype": "text/x-python",
   "name": "python",
   "nbconvert_exporter": "python",
   "pygments_lexer": "ipython3",
   "version": "3.8.10"
  }
 },
 "nbformat": 4,
 "nbformat_minor": 4
}
