{
 "cells": [
  {
   "cell_type": "code",
   "execution_count": 1,
   "metadata": {},
   "outputs": [],
   "source": [
    "import pandas as pd\n",
    "import itertools\n",
    "import os"
   ]
  },
  {
   "cell_type": "code",
   "execution_count": 11,
   "metadata": {},
   "outputs": [],
   "source": [
    "# read in the main data set\n",
    "df = pd.read_csv(\"DOC_20221229010716.csv\")\n",
    "\n",
    "# get all the column names, excluding the \"class\" column\n",
    "column_names = [col for col in df.columns if col != \"class\"]"
   ]
  },
  {
   "cell_type": "code",
   "execution_count": 12,
   "metadata": {},
   "outputs": [
    {
     "data": {
      "text/plain": [
       "['price_current',\n",
       " 'price_previous',\n",
       " 'ema10_current',\n",
       " 'ema10_previous',\n",
       " 'ema20_current',\n",
       " 'ema20_previous',\n",
       " 'ema30_current',\n",
       " 'ema30_previous',\n",
       " 'ema50_current',\n",
       " 'ema50_previous',\n",
       " 'ema100_current',\n",
       " 'ema100_previous',\n",
       " 'ema200_current',\n",
       " 'ema200_previous',\n",
       " 'sma10_current',\n",
       " 'sma10_previous',\n",
       " 'sma20_current',\n",
       " 'sma20_previous',\n",
       " 'sma30_current',\n",
       " 'sma30_previous',\n",
       " 'sma50_current',\n",
       " 'sma50_previous',\n",
       " 'sma100_current',\n",
       " 'sma100_previous',\n",
       " 'sma200_current',\n",
       " 'sma200_previous',\n",
       " 'rsi14_current',\n",
       " 'rsi14_previous',\n",
       " 'stochk_14_current',\n",
       " 'stochk_14_previous',\n",
       " 'cci20_current',\n",
       " 'cci20_previous',\n",
       " 'adi14_current',\n",
       " 'adi14_previous',\n",
       " 'mom10_current',\n",
       " 'mom10_previous',\n",
       " 'macd_12_26_current',\n",
       " 'macd_12_26_previous',\n",
       " 'stoch_rsi_14_current',\n",
       " 'stoch_rsi_14_previous',\n",
       " 'wpr14_current',\n",
       " 'wpr14_previous',\n",
       " 'uosc_current',\n",
       " 'uosc_previous']"
      ]
     },
     "execution_count": 12,
     "metadata": {},
     "output_type": "execute_result"
    }
   ],
   "source": [
    "column_names"
   ]
  },
  {
   "cell_type": "code",
   "execution_count": 5,
   "metadata": {},
   "outputs": [],
   "source": [
    "# get all combinations of sets with a minimum combination of 2\n",
    "combinations = list(itertools.combinations(column_names, 2))"
   ]
  },
  {
   "cell_type": "code",
   "execution_count": 7,
   "metadata": {},
   "outputs": [],
   "source": [
    "# combinations"
   ]
  },
  {
   "cell_type": "code",
   "execution_count": 8,
   "metadata": {},
   "outputs": [],
   "source": [
    "# create a folder to resemble the csv title\n",
    "folder_name = \"DOC_20221229010716\"\n",
    "if not os.path.exists(folder_name):\n",
    "    os.makedirs(folder_name)"
   ]
  },
  {
   "cell_type": "code",
   "execution_count": 9,
   "metadata": {},
   "outputs": [],
   "source": [
    "\n",
    "# iterate through each combination and save down a new csv in the folder\n",
    "for i, combination in enumerate(combinations):\n",
    "    # select the columns for this combination\n",
    "    subset = df[list(combination) + [\"class\"]]\n",
    "    # save the subset to a new csv in the folder\n",
    "    subset.to_csv(f\"{folder_name}/DOC_20221229010716_{i+1}.csv\", index=False)\n"
   ]
  },
  {
   "cell_type": "code",
   "execution_count": null,
   "metadata": {},
   "outputs": [],
   "source": []
  }
 ],
 "metadata": {
  "kernelspec": {
   "display_name": "Python 3",
   "language": "python",
   "name": "python3"
  },
  "language_info": {
   "codemirror_mode": {
    "name": "ipython",
    "version": 3
   },
   "file_extension": ".py",
   "mimetype": "text/x-python",
   "name": "python",
   "nbconvert_exporter": "python",
   "pygments_lexer": "ipython3",
   "version": "3.8.10"
  }
 },
 "nbformat": 4,
 "nbformat_minor": 4
}
