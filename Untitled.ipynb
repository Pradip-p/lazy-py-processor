{
 "cells": [
  {
   "cell_type": "code",
   "execution_count": 14,
   "metadata": {},
   "outputs": [
    {
     "ename": "SyntaxError",
     "evalue": "invalid syntax (3675113763.py, line 23)",
     "output_type": "error",
     "traceback": [
      "\u001b[0;36m  Cell \u001b[0;32mIn[14], line 23\u001b[0;36m\u001b[0m\n\u001b[0;31m    driver.find_element(By.CLASS_NAME,\"areas-filter-panel__max-sum-input ui-spinner-input\").send_keys(\"100\")\u001b[0m\n\u001b[0m    ^\u001b[0m\n\u001b[0;31mSyntaxError\u001b[0m\u001b[0;31m:\u001b[0m invalid syntax\n"
     ]
    }
   ],
   "source": [
    "from selenium import webdriver\n",
    "from selenium.webdriver.common.by import By\n",
    "from selenium.webdriver.support.ui import WebDriverWait\n",
    "from selenium.webdriver.support import expected_conditions as EC\n",
    "\n",
    "# create a new Chrome browser instance\n",
    "driver = webdriver.Chrome()\n",
    "\n",
    "# navigate to the page\n",
    "driver.get(\"https://cutt.ly/s2wCUP3\")\n",
    "\n",
    "wait_for_element = 60  # wait timeout in seconds\n",
    "\n",
    "ele = WebDriverWait(driver, wait_for_element).until(EC.element_to_be_clickable((By.CLASS_NAME, \"areas-filter-panel__qty-input ui-spinner-input\"))\n",
    "# ele.send_keys(\"2\")\n",
    "                                                    \n",
    "                                                    \n",
    "# print(\"sended\")\n",
    "# set the number of seats to 2\n",
    "# driver.find_element(By.CLASS_NAME, \"areas-filter-panel__qty-input ui-spinner-input\").send_keys(\"2\")\n",
    "\n",
    "# set the maximum price to 100\n",
    "driver.find_element(By.CLASS_NAME,\"areas-filter-panel__max-sum-input ui-spinner-input\").send_keys(\"100\")\n",
    "\n",
    "# continuously click the \"CHOOSE SEATS FOR ME\" button\n",
    "while True:\n",
    "    try:\n",
    "        # click the button\n",
    "        driver.find_element(By.CLASS, \"areas-filter-panel__find-button\").click()\n",
    "\n",
    "        # wait for the shopping cart to be displayed\n",
    "#         element = WebDriverWait(driver, 10).until(\n",
    "#             EC.presence_of_element_located((By.ID, \"shopping-cart\"))\n",
    "#         )\n",
    "        print(\"done\")\n",
    "\n",
    "        # the shopping cart has been displayed, so we have reserved 2 tickets\n",
    "        break\n",
    "    except:\n",
    "        # the shopping cart was not displayed, so we will try again in 1 second\n",
    "        time.sleep(1)\n",
    "\n",
    "# output the session cookies\n",
    "cookies = driver.get_cookies()\n",
    "print(cookies)\n",
    "\n",
    "# close the browser\n",
    "driver.close()\n"
   ]
  },
  {
   "cell_type": "code",
   "execution_count": null,
   "metadata": {},
   "outputs": [],
   "source": []
  }
 ],
 "metadata": {
  "kernelspec": {
   "display_name": "Python 3 (ipykernel)",
   "language": "python",
   "name": "python3"
  },
  "language_info": {
   "codemirror_mode": {
    "name": "ipython",
    "version": 3
   },
   "file_extension": ".py",
   "mimetype": "text/x-python",
   "name": "python",
   "nbconvert_exporter": "python",
   "pygments_lexer": "ipython3",
   "version": "3.8.10"
  }
 },
 "nbformat": 4,
 "nbformat_minor": 4
}
